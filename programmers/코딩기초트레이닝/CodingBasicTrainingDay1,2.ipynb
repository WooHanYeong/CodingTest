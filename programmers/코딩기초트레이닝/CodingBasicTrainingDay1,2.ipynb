{
  "nbformat": 4,
  "nbformat_minor": 0,
  "metadata": {
    "colab": {
      "provenance": [],
      "toc_visible": true,
      "authorship_tag": "ABX9TyNGyE50pwlsVrGn2Tpt3iAh",
      "include_colab_link": true
    },
    "kernelspec": {
      "name": "python3",
      "display_name": "Python 3"
    },
    "language_info": {
      "name": "python"
    }
  },
  "cells": [
    {
      "cell_type": "markdown",
      "metadata": {
        "id": "view-in-github",
        "colab_type": "text"
      },
      "source": [
        "<a href=\"https://colab.research.google.com/github/WooHanYeong/CodingTest/blob/main/CodingBasicTrainingDay1%2C2.ipynb\" target=\"_parent\"><img src=\"https://colab.research.google.com/assets/colab-badge.svg\" alt=\"Open In Colab\"/></a>"
      ]
    },
    {
      "cell_type": "markdown",
      "source": [
        "# Day1\n"
      ],
      "metadata": {
        "id": "AOCuDw9-6V43"
      }
    },
    {
      "cell_type": "code",
      "execution_count": 1,
      "metadata": {
        "colab": {
          "base_uri": "https://localhost:8080/"
        },
        "id": "cNjk6YZQ3Ynw",
        "outputId": "75bc59cb-956d-4900-895a-583ac900e4c4"
      },
      "outputs": [
        {
          "output_type": "stream",
          "name": "stdout",
          "text": [
            "0\n",
            "0\n"
          ]
        }
      ],
      "source": [
        "str = input()\n",
        "print(str)"
      ]
    },
    {
      "cell_type": "code",
      "source": [
        "a, b = map(int, input().strip().split(' '))\n",
        "print(\"a = \", a , \"\\nb = \", b)"
      ],
      "metadata": {
        "colab": {
          "base_uri": "https://localhost:8080/"
        },
        "id": "YsWrLc-r4CAe",
        "outputId": "f3151e7d-527f-4f9f-c754-217d371afa3a"
      },
      "execution_count": 22,
      "outputs": [
        {
          "output_type": "stream",
          "name": "stdout",
          "text": [
            "4 5\n",
            "a =  4 \n",
            "b =  5\n"
          ]
        }
      ]
    },
    {
      "cell_type": "code",
      "source": [
        "a, b = input().strip().split(' ')\n",
        "b = int(b)\n",
        "for i in range(b):\n",
        "  print(a, end='')"
      ],
      "metadata": {
        "colab": {
          "base_uri": "https://localhost:8080/"
        },
        "id": "IDtUQnFa6QQX",
        "outputId": "b859b8aa-d16c-4afd-f841-75e1d88ba69c"
      },
      "execution_count": 26,
      "outputs": [
        {
          "output_type": "stream",
          "name": "stdout",
          "text": [
            "asd 4\n",
            "asdasdasdasd"
          ]
        }
      ]
    },
    {
      "cell_type": "code",
      "source": [
        "str = input()\n",
        "str_i=[]\n",
        "for i in range(len(str)):\n",
        "  if str[i].isupper() :\n",
        "    str_i.append(str[i].lower())\n",
        "  else :\n",
        "    str_i.append(str[i].upper())\n",
        "\n",
        "for i in range(len(str_i)):\n",
        "  print(str_i[i],end='')"
      ],
      "metadata": {
        "colab": {
          "base_uri": "https://localhost:8080/"
        },
        "id": "AW1X1urz69oP",
        "outputId": "a1909016-6d32-416b-e567-a8641037271a"
      },
      "execution_count": 43,
      "outputs": [
        {
          "output_type": "stream",
          "name": "stdout",
          "text": [
            "asdASD\n",
            "ASDasd"
          ]
        }
      ]
    },
    {
      "cell_type": "markdown",
      "source": [
        "# Day2\n"
      ],
      "metadata": {
        "id": "TBjh9pw4-TJQ"
      }
    },
    {
      "cell_type": "code",
      "source": [],
      "metadata": {
        "id": "GiRMW3o3-VA5"
      },
      "execution_count": null,
      "outputs": []
    },
    {
      "cell_type": "code",
      "source": [],
      "metadata": {
        "id": "Yr0uEKuW6QVm"
      },
      "execution_count": null,
      "outputs": []
    }
  ]
}
