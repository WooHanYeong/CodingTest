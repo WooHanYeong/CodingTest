{
  "nbformat": 4,
  "nbformat_minor": 0,
  "metadata": {
    "colab": {
      "provenance": [],
      "authorship_tag": "ABX9TyMNQKnKLbp1Jilf6hFeMpa3",
      "include_colab_link": true
    },
    "kernelspec": {
      "name": "python3",
      "display_name": "Python 3"
    },
    "language_info": {
      "name": "python"
    }
  },
  "cells": [
    {
      "cell_type": "markdown",
      "metadata": {
        "id": "view-in-github",
        "colab_type": "text"
      },
      "source": [
        "<a href=\"https://colab.research.google.com/github/WooHanYeong/CodingTest/blob/main/programmers/%EC%BD%94%EB%94%A9%EA%B8%B0%EC%B4%88%ED%8A%B8%EB%A0%88%EC%9D%B4%EB%8B%9D/CodingBasicTrainingDay3.ipynb\" target=\"_parent\"><img src=\"https://colab.research.google.com/assets/colab-badge.svg\" alt=\"Open In Colab\"/></a>"
      ]
    },
    {
      "cell_type": "code",
      "execution_count": 9,
      "metadata": {
        "colab": {
          "base_uri": "https://localhost:8080/"
        },
        "id": "kbiJ0z5LHbzi",
        "outputId": "9421698d-630a-4b71-e984-769c2351f06e"
      },
      "outputs": [
        {
          "output_type": "stream",
          "name": "stdout",
          "text": [
            "4 5\n",
            "4 + 5 = 9\n"
          ]
        }
      ],
      "source": [
        "#덧셈식 출력하기\n",
        "\n",
        "a, b = map(int, input().strip().split(' '))\n",
        "print(a ,'+' , b , '=' ,a + b)"
      ]
    },
    {
      "cell_type": "code",
      "source": [
        "#문자열 붙여서 출력하기\n",
        "\n",
        "str1, str2 = input().strip().split(' ')\n",
        "print(str1,end='')\n",
        "print(str2)"
      ],
      "metadata": {
        "colab": {
          "base_uri": "https://localhost:8080/"
        },
        "id": "psUZby9iIA5j",
        "outputId": "9a15b38f-23a4-422d-e345-cd122c2c26de"
      },
      "execution_count": 10,
      "outputs": [
        {
          "output_type": "stream",
          "name": "stdout",
          "text": [
            "ㅁㅁ ㅠㅠ\n",
            "ㅁㅁㅠㅠ\n"
          ]
        }
      ]
    },
    {
      "cell_type": "code",
      "source": [
        "#문자열 돌리기\n",
        "\n",
        "str = input()\n",
        "for i in range(len(str)):\n",
        "  print(list(str)[i])\n"
      ],
      "metadata": {
        "colab": {
          "base_uri": "https://localhost:8080/"
        },
        "id": "YQAHSNXCIA8K",
        "outputId": "4b4f527a-8ade-4b35-db17-54a7554baf4e"
      },
      "execution_count": 8,
      "outputs": [
        {
          "output_type": "stream",
          "name": "stdout",
          "text": [
            "asd\n",
            "a\n",
            "s\n",
            "d\n"
          ]
        }
      ]
    },
    {
      "cell_type": "code",
      "source": [
        "# 홀짝구분하기\n",
        "\n",
        "a = int(input())\n",
        "if a%2==0 :\n",
        "  print(a , 'is even')\n",
        "else  :\n",
        "  print(a , 'is odd')"
      ],
      "metadata": {
        "colab": {
          "base_uri": "https://localhost:8080/"
        },
        "id": "yZGp-8SpIA-y",
        "outputId": "784f32fb-b0fc-4997-ab3a-00448d05739f"
      },
      "execution_count": 13,
      "outputs": [
        {
          "output_type": "stream",
          "name": "stdout",
          "text": [
            "1\n",
            "1 is odd\n"
          ]
        }
      ]
    },
    {
      "cell_type": "code",
      "source": [
        "#문자열 겹쳐쓰기\n",
        "\n",
        "def solution(my_string, overwrite_string, s):\n",
        "    answer = ''\n",
        "    mylist = list(my_string)\n",
        "    overlist = list(overwrite_string)\n",
        "    mylists=[]\n",
        "    overlists=''\n",
        "    for i in range(0,s):\n",
        "      mylists.append(mylist[i])\n",
        "    for i in range(len(overlist)):\n",
        "      mylists.append(overlist[i])\n",
        "    if len(mylists) != len(mylist) :\n",
        "      k=len(mylists)\n",
        "      for i in range(k,len(mylist)):\n",
        "        mylists.append(mylist[i])\n",
        "    for i in range(len(mylists)):\n",
        "      overlists += mylists[i]\n",
        "\n",
        "    return overlists\n",
        "\n",
        "solution(\"He11oWor1dswsw\" ,\t\"lloWorl\"\t,2)"
      ],
      "metadata": {
        "colab": {
          "base_uri": "https://localhost:8080/",
          "height": 35
        },
        "id": "Xk-EvYh0JGWj",
        "outputId": "d667306b-d4c5-4875-c96e-a5492d9457df"
      },
      "execution_count": 20,
      "outputs": [
        {
          "output_type": "execute_result",
          "data": {
            "text/plain": [
              "'HelloWorldswsw'"
            ],
            "application/vnd.google.colaboratory.intrinsic+json": {
              "type": "string"
            }
          },
          "metadata": {},
          "execution_count": 20
        }
      ]
    },
    {
      "cell_type": "code",
      "source": [],
      "metadata": {
        "id": "l4BBccUbMrjD"
      },
      "execution_count": null,
      "outputs": []
    }
  ]
}