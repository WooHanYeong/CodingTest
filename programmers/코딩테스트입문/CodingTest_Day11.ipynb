{
  "nbformat": 4,
  "nbformat_minor": 0,
  "metadata": {
    "colab": {
      "provenance": [],
      "authorship_tag": "ABX9TyNCd+OnvjlpOSrSYqJassE7",
      "include_colab_link": true
    },
    "kernelspec": {
      "name": "python3",
      "display_name": "Python 3"
    },
    "language_info": {
      "name": "python"
    }
  },
  "cells": [
    {
      "cell_type": "markdown",
      "metadata": {
        "id": "view-in-github",
        "colab_type": "text"
      },
      "source": [
        "<a href=\"https://colab.research.google.com/github/WooHanYeong/CodingTestPython/blob/main/programmers/%EC%BD%94%EB%94%A9%ED%85%8C%EC%8A%A4%ED%8A%B8%EC%9E%85%EB%AC%B8/CodingTest_Day11.ipynb\" target=\"_parent\"><img src=\"https://colab.research.google.com/assets/colab-badge.svg\" alt=\"Open In Colab\"/></a>"
      ]
    },
    {
      "cell_type": "code",
      "execution_count": null,
      "metadata": {
        "colab": {
          "base_uri": "https://localhost:8080/"
        },
        "id": "OxbBWYqRNV4S",
        "outputId": "2c8fed73-8407-427e-aa42-73d84f039751"
      },
      "outputs": [
        {
          "output_type": "execute_result",
          "data": {
            "text/plain": [
              "24"
            ]
          },
          "metadata": {},
          "execution_count": 3
        }
      ],
      "source": [
        "##주사위의 개수\n",
        "\n",
        "def solution(box, n):\n",
        "    answer = 0\n",
        "    k=[]\n",
        "    k_num=1\n",
        "    for i in range(len(box)):\n",
        "      k.append(box[i]//n )\n",
        "      k_num *=k[i]\n",
        "    answer=k_num\n",
        "    return answer\n",
        "\n",
        "solution([12,10,6],3)\n"
      ]
    },
    {
      "cell_type": "code",
      "source": [
        "##합성수 찾기\n",
        "\n",
        "def solution(n):\n",
        "    answer = 0\n",
        "    answer_li=[]\n",
        "    for i in range(1,n+1):\n",
        "      li=[]\n",
        "      for j in range(1,i+1):\n",
        "        if i%j==0:\n",
        "          li.append(j)\n",
        "      if len(li)>=3:\n",
        "        answer_li.append(i)\n",
        "    answer=len(answer_li)\n",
        "    return answer\n",
        "\n",
        "solution(15)"
      ],
      "metadata": {
        "colab": {
          "base_uri": "https://localhost:8080/"
        },
        "id": "HXAsayRLN8P5",
        "outputId": "5865de31-aea7-49f3-d5e9-9ff8db9c90bb"
      },
      "execution_count": null,
      "outputs": [
        {
          "output_type": "execute_result",
          "data": {
            "text/plain": [
              "8"
            ]
          },
          "metadata": {},
          "execution_count": 24
        }
      ]
    },
    {
      "cell_type": "code",
      "source": [
        "##최댓값 만들기(1)\n",
        "\n",
        "def solution(numbers):\n",
        "    answer = 0\n",
        "    max1=0\n",
        "    max2=0\n",
        "    for i in range(len(numbers)):\n",
        "      max1=max(numbers)\n",
        "    del numbers[numbers.index(max(numbers))]\n",
        "    for i in range(len(numbers)-1):\n",
        "      max2=max(numbers)\n",
        "    answer = max1*max2\n",
        "    return answer\n",
        "\n",
        "solution([12,3,4,5])\n"
      ],
      "metadata": {
        "colab": {
          "base_uri": "https://localhost:8080/"
        },
        "id": "Z8ZOXbm_N8SI",
        "outputId": "da397158-d3b9-474a-de3a-6c202d4b9cf1"
      },
      "execution_count": null,
      "outputs": [
        {
          "output_type": "execute_result",
          "data": {
            "text/plain": [
              "60"
            ]
          },
          "metadata": {},
          "execution_count": 43
        }
      ]
    },
    {
      "cell_type": "code",
      "source": [
        "##팩토리얼\n",
        "\n",
        "def solution(n):\n",
        "    answer = 0\n",
        "    k=1\n",
        "    for i in range(1,11):\n",
        "      k*=i\n",
        "      if k==n:\n",
        "        answer=i\n",
        "        break\n",
        "      if k>= n :\n",
        "        answer=i-1\n",
        "        break\n",
        "    return answer\n",
        "solution(12)"
      ],
      "metadata": {
        "colab": {
          "base_uri": "https://localhost:8080/"
        },
        "id": "6tt_9Rw6N8Vp",
        "outputId": "977cd799-fa4b-4af8-bb3f-d7fef86daec7"
      },
      "execution_count": 18,
      "outputs": [
        {
          "output_type": "execute_result",
          "data": {
            "text/plain": [
              "5"
            ]
          },
          "metadata": {},
          "execution_count": 18
        }
      ]
    }
  ]
}