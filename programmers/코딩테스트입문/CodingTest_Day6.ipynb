{
  "nbformat": 4,
  "nbformat_minor": 0,
  "metadata": {
    "colab": {
      "provenance": [],
      "authorship_tag": "ABX9TyOa9qVvg+WypS1ShwAnsHgM",
      "include_colab_link": true
    },
    "kernelspec": {
      "name": "python3",
      "display_name": "Python 3"
    },
    "language_info": {
      "name": "python"
    }
  },
  "cells": [
    {
      "cell_type": "markdown",
      "metadata": {
        "id": "view-in-github",
        "colab_type": "text"
      },
      "source": [
        "<a href=\"https://colab.research.google.com/github/WooHanYeong/CodingTest/blob/main/programmers/%EC%BD%94%EB%94%A9%ED%85%8C%EC%8A%A4%ED%8A%B8%EC%9E%85%EB%AC%B8/CodingTest_Day6.ipynb\" target=\"_parent\"><img src=\"https://colab.research.google.com/assets/colab-badge.svg\" alt=\"Open In Colab\"/></a>"
      ]
    },
    {
      "cell_type": "code",
      "source": [
        "#문자열 뒤집기\n",
        "\n",
        "def solution(my_string):\n",
        "    answer = ''\n",
        "    answers=[]\n",
        "    for i in range(len(my_string)-1,-1,-1):\n",
        "      answers.append(my_string[i])\n",
        "    for i in range(len(answers)):\n",
        "      answer += answers[i]\n",
        "    return answer\n",
        "solution('asd')"
      ],
      "metadata": {
        "colab": {
          "base_uri": "https://localhost:8080/",
          "height": 35
        },
        "id": "rtyu4f7zSjH3",
        "outputId": "d71a5655-25a1-4dab-e955-c997e75c2278"
      },
      "execution_count": 17,
      "outputs": [
        {
          "output_type": "execute_result",
          "data": {
            "text/plain": [
              "'dsa'"
            ],
            "application/vnd.google.colaboratory.intrinsic+json": {
              "type": "string"
            }
          },
          "metadata": {},
          "execution_count": 17
        }
      ]
    },
    {
      "cell_type": "code",
      "source": [
        "# 직각삼각형 출력하기\n",
        "\n",
        "n = int(input())\n",
        "count=0\n",
        "for i in range(n+1):\n",
        "  if count != n :\n",
        "    print('*'*(i+1))\n",
        "    count+=1\n",
        "\n"
      ],
      "metadata": {
        "colab": {
          "base_uri": "https://localhost:8080/"
        },
        "id": "Z1O5mP84SPDE",
        "outputId": "3ed253b5-a1bc-4b5f-df96-d50ee5088918"
      },
      "execution_count": 27,
      "outputs": [
        {
          "output_type": "stream",
          "name": "stdout",
          "text": [
            "6\n",
            "*\n",
            "**\n",
            "***\n",
            "****\n",
            "*****\n",
            "******\n"
          ]
        }
      ]
    },
    {
      "cell_type": "code",
      "source": [
        "#짝수 홀수 개수\n",
        "\n",
        "def solution(num_list):\n",
        "    answer = []\n",
        "    hs=[]\n",
        "    js=[]\n",
        "    for i in range(len(num_list)):\n",
        "      if num_list[i]%2==0 :\n",
        "        js.append(num_list[i])\n",
        "      else :\n",
        "        hs.append(num_list[i])\n",
        "    h= len(hs)\n",
        "    j= len(js)\n",
        "    answer.append(h)\n",
        "    answer.append(j)\n",
        "    return answer\n",
        "\n",
        "solution([1,2,3,4,5,6,7])"
      ],
      "metadata": {
        "colab": {
          "base_uri": "https://localhost:8080/"
        },
        "id": "Dff_PkuO_kyX",
        "outputId": "5076a0bc-1a26-43dc-d52f-8205f23801b4"
      },
      "execution_count": 33,
      "outputs": [
        {
          "output_type": "execute_result",
          "data": {
            "text/plain": [
              "[4, 3]"
            ]
          },
          "metadata": {},
          "execution_count": 33
        }
      ]
    },
    {
      "cell_type": "code",
      "source": [
        "# 문자반복출력하기.\n",
        "\n",
        "def solution(my_string, n):\n",
        "    answer = ''\n",
        "    list1 =list(my_string)\n",
        "    list2 = []\n",
        "    for i in range(len(list1)):\n",
        "      for j in range(n):\n",
        "        list2.append(list1[i])\n",
        "    for i in range(len(list2)):\n",
        "      answer += list2[i]\n",
        "\n",
        "    return answer\n",
        "\n",
        "solution('absdv',3)"
      ],
      "metadata": {
        "colab": {
          "base_uri": "https://localhost:8080/",
          "height": 35
        },
        "id": "CKia4ngqElu5",
        "outputId": "477fd8d9-e449-442a-fcd2-3ade146fe435"
      },
      "execution_count": 41,
      "outputs": [
        {
          "output_type": "execute_result",
          "data": {
            "text/plain": [
              "'aaabbbsssdddvvv'"
            ],
            "application/vnd.google.colaboratory.intrinsic+json": {
              "type": "string"
            }
          },
          "metadata": {},
          "execution_count": 41
        }
      ]
    }
  ]
}