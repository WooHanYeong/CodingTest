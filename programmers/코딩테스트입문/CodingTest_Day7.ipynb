{
  "nbformat": 4,
  "nbformat_minor": 0,
  "metadata": {
    "colab": {
      "provenance": [],
      "authorship_tag": "ABX9TyOf7tR/I7K17CiY6dc9Jnbj",
      "include_colab_link": true
    },
    "kernelspec": {
      "name": "python3",
      "display_name": "Python 3"
    },
    "language_info": {
      "name": "python"
    }
  },
  "cells": [
    {
      "cell_type": "markdown",
      "metadata": {
        "id": "view-in-github",
        "colab_type": "text"
      },
      "source": [
        "<a href=\"https://colab.research.google.com/github/WooHanYeong/CodingTest/blob/main/programmers/%EC%BD%94%EB%94%A9%ED%85%8C%EC%8A%A4%ED%8A%B8%EC%9E%85%EB%AC%B8/CodingTest_Day7.ipynb\" target=\"_parent\"><img src=\"https://colab.research.google.com/assets/colab-badge.svg\" alt=\"Open In Colab\"/></a>"
      ]
    },
    {
      "cell_type": "code",
      "execution_count": 7,
      "metadata": {
        "colab": {
          "base_uri": "https://localhost:8080/",
          "height": 35
        },
        "id": "EQjn-ONGwF6Q",
        "outputId": "6daf343c-46ad-479d-ede3-4bb2f430cdf5"
      },
      "outputs": [
        {
          "output_type": "execute_result",
          "data": {
            "text/plain": [
              "'bbcc'"
            ],
            "application/vnd.google.colaboratory.intrinsic+json": {
              "type": "string"
            }
          },
          "metadata": {},
          "execution_count": 7
        }
      ],
      "source": [
        "#특정문자 제거하기\n",
        "\n",
        "def solution(my_string, letter):\n",
        "    answer = ''\n",
        "    answerlist = []\n",
        "    string=list(my_string)\n",
        "    for i in range(len(string)):\n",
        "      if string[i] != letter :\n",
        "        answerlist.append(string[i])\n",
        "    for i in range(len(answerlist)) :\n",
        "      answer += answerlist[i]\n",
        "    return answer\n",
        "\n",
        "solution('aaaabbcc' ,'a')"
      ]
    },
    {
      "cell_type": "code",
      "source": [
        "#각도기\n",
        "\n",
        "def solution(angle):\n",
        "    answer = 0\n",
        "    if 0< angle <90:\n",
        "      answer = 1\n",
        "    elif angle ==90 :\n",
        "      answer = 2\n",
        "    elif 90< angle <180 :\n",
        "      answer = 3\n",
        "    else :\n",
        "      answer = 4\n",
        "    return answer\n",
        "solution(180)"
      ],
      "metadata": {
        "colab": {
          "base_uri": "https://localhost:8080/"
        },
        "id": "QV2W8I7XyS58",
        "outputId": "0cbf5589-1880-4965-b84b-b3fa9ab1361e"
      },
      "execution_count": 10,
      "outputs": [
        {
          "output_type": "execute_result",
          "data": {
            "text/plain": [
              "4"
            ]
          },
          "metadata": {},
          "execution_count": 10
        }
      ]
    },
    {
      "cell_type": "code",
      "source": [
        "#양꼬치\n",
        "\n",
        "def solution(n, k):\n",
        "    answer = 12000*n + 2000*k - (n//10 *2000)\n",
        "    return answer\n",
        "solution(64,6)"
      ],
      "metadata": {
        "colab": {
          "base_uri": "https://localhost:8080/"
        },
        "id": "qLCSdxHGzeLl",
        "outputId": "8355d8f3-207a-4578-eab4-cca965e2cc06"
      },
      "execution_count": 13,
      "outputs": [
        {
          "output_type": "execute_result",
          "data": {
            "text/plain": [
              "768000"
            ]
          },
          "metadata": {},
          "execution_count": 13
        }
      ]
    },
    {
      "cell_type": "code",
      "source": [
        "#짝수의합\n",
        "\n",
        "def solution(n):\n",
        "    answer = 0\n",
        "    for i in range(n+1):\n",
        "        if i%2==0:\n",
        "            answer += i\n",
        "    return answer"
      ],
      "metadata": {
        "id": "MU29h4-ozr1D"
      },
      "execution_count": 14,
      "outputs": []
    }
  ]
}