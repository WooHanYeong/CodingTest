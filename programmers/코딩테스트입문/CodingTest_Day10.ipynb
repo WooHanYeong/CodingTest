{
  "nbformat": 4,
  "nbformat_minor": 0,
  "metadata": {
    "colab": {
      "provenance": [],
      "authorship_tag": "ABX9TyPzW3Q7hNwQYAEaUgbFBG1w",
      "include_colab_link": true
    },
    "kernelspec": {
      "name": "python3",
      "display_name": "Python 3"
    },
    "language_info": {
      "name": "python"
    }
  },
  "cells": [
    {
      "cell_type": "markdown",
      "metadata": {
        "id": "view-in-github",
        "colab_type": "text"
      },
      "source": [
        "<a href=\"https://colab.research.google.com/github/WooHanYeong/CodingTestPython/blob/main/programmers/%EC%BD%94%EB%94%A9%ED%85%8C%EC%8A%A4%ED%8A%B8%EC%9E%85%EB%AC%B8/CodingTest_Day10.ipynb\" target=\"_parent\"><img src=\"https://colab.research.google.com/assets/colab-badge.svg\" alt=\"Open In Colab\"/></a>"
      ]
    },
    {
      "cell_type": "code",
      "execution_count": null,
      "metadata": {
        "id": "nvVjqH76KwO4"
      },
      "outputs": [],
      "source": [
        "## 점의 위치 구하기\n",
        "\n",
        "def solution(dot):\n",
        "    answer = 0\n",
        "    if dot[0]>0 :\n",
        "      if dot[1]>0:\n",
        "        answer=1\n",
        "      else :\n",
        "        answer=4\n",
        "    else:\n",
        "      if dot[1]>0 :\n",
        "        answer=2\n",
        "      else:\n",
        "        answer=3\n",
        "    return answer"
      ]
    },
    {
      "cell_type": "code",
      "source": [
        "## 2차원으로 만들기\n",
        "\n",
        "def solution(num_list, n):\n",
        "    answer = [[]]\n",
        "    answer=[]\n",
        "    for i in range(len(num_list)//n):\n",
        "        answer.append(num_list[n*i:n*(i+1)])\n",
        "    return answer\n",
        "\n",
        "solution([1,2,3,4,5,6],2)"
      ],
      "metadata": {
        "colab": {
          "base_uri": "https://localhost:8080/"
        },
        "id": "vWUkYMc6K9jz",
        "outputId": "986c1567-0b7e-4115-c4f9-967bdb788528"
      },
      "execution_count": null,
      "outputs": [
        {
          "output_type": "execute_result",
          "data": {
            "text/plain": [
              "[[1, 2], [3, 4], [5, 6]]"
            ]
          },
          "metadata": {},
          "execution_count": 2
        }
      ]
    },
    {
      "cell_type": "code",
      "source": [
        "## 공 던지기\n",
        "def solution(numbers, k):\n",
        "    answer = 0\n",
        "    if len(numbers) < k * 2:\n",
        "        numbers = numbers * ((k*2) // len(numbers) + 1)\n",
        "\n",
        "    answer = numbers[2*(k-1)]\n",
        "    return answer\n",
        "solution([1,2,3],3)"
      ],
      "metadata": {
        "colab": {
          "base_uri": "https://localhost:8080/"
        },
        "id": "Suj6ny91K9mL",
        "outputId": "452ada54-73f7-431c-f182-f9c2aa6aaee3"
      },
      "execution_count": 1,
      "outputs": [
        {
          "output_type": "execute_result",
          "data": {
            "text/plain": [
              "2"
            ]
          },
          "metadata": {},
          "execution_count": 1
        }
      ]
    },
    {
      "cell_type": "code",
      "source": [
        "## 배열 회전시키기\n",
        "def solution(numbers, direction):\n",
        "    answer = []\n",
        "    right_answer=[]\n",
        "    left_answer=[]\n",
        "    if direction==\"right\":\n",
        "      right_answer.append(numbers[-1])\n",
        "      for i in range(len(numbers)-1):\n",
        "          right_answer.append(numbers[i])\n",
        "      answer=right_answer\n",
        "    else :\n",
        "      for i in range(len(numbers)-1):\n",
        "        left_answer.append(numbers[i+1])\n",
        "      left_answer.append(numbers[0])\n",
        "      answer=left_answer\n",
        "    return answer\n",
        "\n",
        "solution([1,2,3,4,5,6,7,8,9],\"left\")"
      ],
      "metadata": {
        "id": "EeqxjybSK9qT",
        "colab": {
          "base_uri": "https://localhost:8080/"
        },
        "outputId": "96fc1afa-3c9a-4ada-d6c1-60559289e095"
      },
      "execution_count": 23,
      "outputs": [
        {
          "output_type": "execute_result",
          "data": {
            "text/plain": [
              "[2, 3, 4, 5, 6, 7, 8, 9, 1]"
            ]
          },
          "metadata": {},
          "execution_count": 23
        }
      ]
    }
  ]
}