{
  "nbformat": 4,
  "nbformat_minor": 0,
  "metadata": {
    "colab": {
      "provenance": [],
      "authorship_tag": "ABX9TyNQbq9npfOXglFdLJxzLR7f",
      "include_colab_link": true
    },
    "kernelspec": {
      "name": "python3",
      "display_name": "Python 3"
    },
    "language_info": {
      "name": "python"
    }
  },
  "cells": [
    {
      "cell_type": "markdown",
      "metadata": {
        "id": "view-in-github",
        "colab_type": "text"
      },
      "source": [
        "<a href=\"https://colab.research.google.com/github/WooHanYeong/CodingTest/blob/main/programmers/%EC%BD%94%EB%94%A9%ED%85%8C%EC%8A%A4%ED%8A%B8%EC%9E%85%EB%AC%B8/CodingTest_Day8.ipynb\" target=\"_parent\"><img src=\"https://colab.research.google.com/assets/colab-badge.svg\" alt=\"Open In Colab\"/></a>"
      ]
    },
    {
      "cell_type": "code",
      "execution_count": null,
      "metadata": {
        "colab": {
          "base_uri": "https://localhost:8080/"
        },
        "id": "AA2k2NrF7MKX",
        "outputId": "10d3c1e1-8901-44d1-cef8-defdd3241207"
      },
      "outputs": [
        {
          "output_type": "execute_result",
          "data": {
            "text/plain": [
              "[2, 3, 4]"
            ]
          },
          "metadata": {},
          "execution_count": 1
        }
      ],
      "source": [
        "#배열 자르기\n",
        "\n",
        "def solution(numbers, num1, num2):\n",
        "    answer = []\n",
        "    for i in range(num1,num2+1):\n",
        "      answer.append(numbers[i])\n",
        "    return answer\n",
        "\n",
        "solution([1,2,3,4,5],1,3)"
      ]
    },
    {
      "cell_type": "code",
      "source": [
        "#외계행성의 나이\n",
        "\n",
        "def solution(age):\n",
        "    answer= ''\n",
        "    answerlist= []\n",
        "    list = ['a','b','c','d','e','f','g','h','i','j']\n",
        "    agestr = str(age)\n",
        "    for i in range(len(agestr)):\n",
        "      answerlist.append(list[int(agestr[i])])\n",
        "    for i in range(len(answerlist)):\n",
        "      answer+=answerlist[i]\n",
        "    return answer\n",
        "\n",
        "\n",
        "solution(34)"
      ],
      "metadata": {
        "colab": {
          "base_uri": "https://localhost:8080/",
          "height": 35
        },
        "id": "ZlnJnSKvDvDM",
        "outputId": "3d7db88a-00db-4b6a-ba35-ccaa0c602f40"
      },
      "execution_count": null,
      "outputs": [
        {
          "output_type": "execute_result",
          "data": {
            "text/plain": [
              "'de'"
            ],
            "application/vnd.google.colaboratory.intrinsic+json": {
              "type": "string"
            }
          },
          "metadata": {},
          "execution_count": 2
        }
      ]
    },
    {
      "cell_type": "code",
      "source": [
        "#진료순서 정하기\n",
        "\n",
        "def solution(emergency):\n",
        "    an = [1 for i in range(len(emergency))]\n",
        "    answer = []\n",
        "    for i in range(len(emergency)):\n",
        "      for k in range(len(emergency)) :\n",
        "        if k == emergency.index(min(emergency)):\n",
        "          an[k]+=len(emergency)-i-1\n",
        "          emergency[k] = max(emergency)+1\n",
        "          break\n",
        "\n",
        "\n",
        "    return an\n",
        "solution([73,521,68,1,45])"
      ],
      "metadata": {
        "id": "7rS393hhDvHS",
        "colab": {
          "base_uri": "https://localhost:8080/"
        },
        "outputId": "3e1970cc-e6ac-4fd6-9f1b-6eef27a4ece9"
      },
      "execution_count": null,
      "outputs": [
        {
          "output_type": "execute_result",
          "data": {
            "text/plain": [
              "[2, 1, 3, 5, 4]"
            ]
          },
          "metadata": {},
          "execution_count": 42
        }
      ]
    },
    {
      "cell_type": "code",
      "source": [
        "#순서쌍의 개수\n",
        "\n",
        "def solution(n):\n",
        "    b=[]\n",
        "    for i in range(1,n+1):\n",
        "        if n%i==0 :\n",
        "            b.append(i)\n",
        "        answer = len(b)\n",
        "\n",
        "    return answer"
      ],
      "metadata": {
        "id": "F2MJ_XjEDvMS"
      },
      "execution_count": null,
      "outputs": []
    }
  ]
}