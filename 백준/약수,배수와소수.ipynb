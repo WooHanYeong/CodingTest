{
  "nbformat": 4,
  "nbformat_minor": 0,
  "metadata": {
    "colab": {
      "provenance": [],
      "authorship_tag": "ABX9TyMvsSjzXN80aSZFRXMSCh7U",
      "include_colab_link": true
    },
    "kernelspec": {
      "name": "python3",
      "display_name": "Python 3"
    },
    "language_info": {
      "name": "python"
    }
  },
  "cells": [
    {
      "cell_type": "markdown",
      "metadata": {
        "id": "view-in-github",
        "colab_type": "text"
      },
      "source": [
        "<a href=\"https://colab.research.google.com/github/WooHanYeong/CodingTestPython/blob/main/%EB%B0%B1%EC%A4%80/%EC%95%BD%EC%88%98%2C%EB%B0%B0%EC%88%98%EC%99%80%EC%86%8C%EC%88%98.ipynb\" target=\"_parent\"><img src=\"https://colab.research.google.com/assets/colab-badge.svg\" alt=\"Open In Colab\"/></a>"
      ]
    },
    {
      "cell_type": "code",
      "execution_count": null,
      "metadata": {
        "colab": {
          "base_uri": "https://localhost:8080/"
        },
        "id": "RggrinCTZeO4",
        "outputId": "130fa40d-b429-4eff-bae4-ee0f05f5fdaf"
      },
      "outputs": [
        {
          "name": "stdout",
          "output_type": "stream",
          "text": [
            "3 15\n",
            "factor\n",
            "10 2\n",
            "multiple\n",
            "0 0\n"
          ]
        }
      ],
      "source": [
        "#배수와 약수\n",
        "while True:\n",
        "    n1,n2=map(int,input().split())\n",
        "\n",
        "    if n1==0 and n2==0:\n",
        "        break\n",
        "    elif n2%n1==0:\n",
        "        print('factor')\n",
        "    elif n1%n2==0:\n",
        "        print('multiple')\n",
        "    else:\n",
        "        print('neither')\n"
      ]
    },
    {
      "cell_type": "code",
      "source": [
        "#약수 구하기\n",
        "N,K=map(int,input().split())\n",
        "li=[]\n",
        "for i in range(1,N+1):\n",
        "  if (N%i==0) :\n",
        "    li.append(i)\n",
        "if len(li)>=K :\n",
        "  print(li[K-1])\n",
        "else:\n",
        "  print(0)\n",
        "\n"
      ],
      "metadata": {
        "colab": {
          "base_uri": "https://localhost:8080/"
        },
        "id": "EDMaR4yu7ULL",
        "outputId": "731d5400-9138-4ba8-835d-57cec418408f"
      },
      "execution_count": null,
      "outputs": [
        {
          "output_type": "stream",
          "name": "stdout",
          "text": [
            "6 5\n",
            "0\n"
          ]
        }
      ]
    },
    {
      "cell_type": "code",
      "source": [
        "#약수들의 합\n",
        "while True:\n",
        "  cnt=0\n",
        "  li=[]\n",
        "  n=int(input())\n",
        "  if n==-1:\n",
        "    break\n",
        "  for i in range(1,n):\n",
        "    if n%i==0:\n",
        "      li.append(i)\n",
        "      cnt+=i\n",
        "  if n==cnt :\n",
        "    str_n = str(n)+ \" = 1\"\n",
        "    for i in range(1,len(li)):\n",
        "      str_n+=\" + \"+str(li[i])\n",
        "    print(str_n)\n",
        "  else :\n",
        "    print(str(n) + \" is NOT perfect.\")"
      ],
      "metadata": {
        "colab": {
          "base_uri": "https://localhost:8080/"
        },
        "id": "_4bYLagzINur",
        "outputId": "739d5d71-1f2b-4422-ee7a-7c30caae75d6"
      },
      "execution_count": null,
      "outputs": [
        {
          "name": "stdout",
          "output_type": "stream",
          "text": [
            "6\n",
            "6 = 1 + 2 + 3\n",
            "5\n",
            "5 is NOT perfect.\n",
            "28\n",
            "28 = 1 + 2 + 4 + 7 + 14\n",
            "-1\n"
          ]
        }
      ]
    },
    {
      "cell_type": "code",
      "source": [
        "#소수 찾기\n",
        "n= int(input())\n",
        "li=[]\n",
        "numbers = list(map(int, input().split()))\n",
        "for i in range(len(numbers)):\n",
        "  cnt=0\n",
        "  for j in range(1,numbers[i]+1):\n",
        "    if numbers[i]%j==0:\n",
        "      cnt+=1\n",
        "  if cnt==2:\n",
        "    li.append(numbers[i])\n",
        "print(len(li))\n"
      ],
      "metadata": {
        "colab": {
          "base_uri": "https://localhost:8080/"
        },
        "id": "rDG7lf6nhKWG",
        "outputId": "79503eba-9a23-4e89-8091-5c3e02213652"
      },
      "execution_count": null,
      "outputs": [
        {
          "output_type": "stream",
          "name": "stdout",
          "text": [
            "5\n",
            "1 3 5 7 9 11 13 14 15\n",
            "5\n"
          ]
        }
      ]
    },
    {
      "cell_type": "code",
      "source": [
        "#소수\n",
        "n=int(input())\n",
        "m=int(input())\n",
        "li=[]\n",
        "for i in range(n,m+1):\n",
        "  cnt=0\n",
        "  for j in range(1,i+1):\n",
        "    if i%j==0:\n",
        "      cnt+=1\n",
        "  if cnt==2:\n",
        "    li.append(i)\n",
        "if len(li)==0:\n",
        "  print(-1)\n",
        "else :\n",
        "  print(sum(li))\n",
        "  print(li[0])\n",
        "\n"
      ],
      "metadata": {
        "id": "8FyvKab804k8",
        "colab": {
          "base_uri": "https://localhost:8080/"
        },
        "outputId": "4d0717a1-c3d3-4584-9029-8f132df488a4"
      },
      "execution_count": null,
      "outputs": [
        {
          "output_type": "stream",
          "name": "stdout",
          "text": [
            "64\n",
            "65\n",
            "-1\n"
          ]
        }
      ]
    },
    {
      "cell_type": "code",
      "source": [
        "#소인수분해\n",
        "n=int(input())\n",
        "li_1=[]\n",
        "for i in range(2,n+1):\n",
        "  while True :\n",
        "    if n%i==0:\n",
        "      li_1.append(i)\n",
        "      n= n//i\n",
        "    else :\n",
        "      break\n",
        "for i in range(len(li_1)):\n",
        "  print(li_1[i])"
      ],
      "metadata": {
        "colab": {
          "base_uri": "https://localhost:8080/"
        },
        "id": "5dR8xAs81rFh",
        "outputId": "3881fcba-19c3-4c4b-cccc-6b7058acf2d5"
      },
      "execution_count": 13,
      "outputs": [
        {
          "output_type": "stream",
          "name": "stdout",
          "text": [
            "72\n",
            "2\n",
            "2\n",
            "2\n",
            "3\n",
            "3\n"
          ]
        }
      ]
    }
  ]
}