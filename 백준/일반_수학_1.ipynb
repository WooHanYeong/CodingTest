{
  "nbformat": 4,
  "nbformat_minor": 0,
  "metadata": {
    "colab": {
      "provenance": [],
      "authorship_tag": "ABX9TyPCc8Lkcwf2qW0kpPb+b5I5",
      "include_colab_link": true
    },
    "kernelspec": {
      "name": "python3",
      "display_name": "Python 3"
    },
    "language_info": {
      "name": "python"
    }
  },
  "cells": [
    {
      "cell_type": "markdown",
      "metadata": {
        "id": "view-in-github",
        "colab_type": "text"
      },
      "source": [
        "<a href=\"https://colab.research.google.com/github/WooHanYeong/CodingTestPython/blob/main/%EB%B0%B1%EC%A4%80/%EC%9D%BC%EB%B0%98_%EC%88%98%ED%95%99_1.ipynb\" target=\"_parent\"><img src=\"https://colab.research.google.com/assets/colab-badge.svg\" alt=\"Open In Colab\"/></a>"
      ]
    },
    {
      "cell_type": "code",
      "execution_count": 5,
      "metadata": {
        "id": "N48ynqUAVKyk",
        "colab": {
          "base_uri": "https://localhost:8080/"
        },
        "outputId": "13e70a7e-f733-49e8-b8d9-92c49ea58560"
      },
      "outputs": [
        {
          "output_type": "stream",
          "name": "stdout",
          "text": [
            "5\n",
            "1089\n"
          ]
        }
      ],
      "source": [
        "#중앙 이동 알고리즘\n",
        "n=int(input())\n",
        "sum=2\n",
        "for i in range(n):\n",
        "  sum+=2**i\n",
        "result = sum*sum\n",
        "print(result)"
      ]
    },
    {
      "cell_type": "code",
      "source": [
        "# 쿼터(Quarter, $0.25)의 개수, 다임(Dime, $0.10)의 개수, 니켈(Nickel, $0.05)의 개수, 페니(Penny, $0.01)\n",
        "Q = 0.25\n",
        "D = 0.10\n",
        "N = 0.05\n",
        "P = 0.01\n",
        "\n",
        "t = int(input())\n",
        "for i in range(t):\n",
        "  c = int(input())\n",
        "  QM = c // 25\n",
        "  c = c % 25\n",
        "  DM = c // 10\n",
        "  c = c % 10\n",
        "  NM = c // 5\n",
        "  c = c % 5\n",
        "  PM = c\n",
        "  print(QM, DM, NM, PM)\n"
      ],
      "metadata": {
        "id": "7-8Rkyt2qLYA",
        "colab": {
          "base_uri": "https://localhost:8080/"
        },
        "outputId": "282cf04e-09de-43fe-ec46-0282438aa103"
      },
      "execution_count": 20,
      "outputs": [
        {
          "output_type": "stream",
          "name": "stdout",
          "text": [
            "3\n",
            "124\n",
            "4 2 0 3\n",
            "25\n",
            "1 0 0 0\n",
            "194\n",
            "7 1 1 3\n"
          ]
        }
      ]
    },
    {
      "cell_type": "code",
      "source": [
        "#진법 변환\n",
        "def convert_base(num, to_base):\n",
        "    if num == 0:\n",
        "        return '0'\n",
        "\n",
        "    digits = '0123456789ABCDEFGHIJKLMNOPQRSTUVWXYZ'\n",
        "    result = ''\n",
        "\n",
        "    while num > 0:\n",
        "        remainder = num % to_base\n",
        "        result = digits[remainder] + result\n",
        "        num //= to_base\n",
        "\n",
        "    return result\n",
        "\n",
        "M, N = input().split()\n",
        "decimal_number = int(M, int(N))\n",
        "result = convert_base(decimal_number, 10)\n",
        "print(result)\n"
      ],
      "metadata": {
        "colab": {
          "base_uri": "https://localhost:8080/"
        },
        "id": "BBWX4lgHm4l_",
        "outputId": "bdb7ab3a-670b-40e8-b05c-42eee8a7bd64"
      },
      "execution_count": 51,
      "outputs": [
        {
          "output_type": "stream",
          "name": "stdout",
          "text": [
            "ZZZZZ 36\n",
            "60466175\n"
          ]
        }
      ]
    },
    {
      "cell_type": "code",
      "source": [
        "#진법 변환 2\n",
        "def convert_to_base(num, base):\n",
        "    if num == 0:\n",
        "        return '0'\n",
        "\n",
        "    digits = '0123456789ABCDEFGHIJKLMNOPQRSTUVWXYZ'\n",
        "    result = ''\n",
        "\n",
        "    while num > 0:\n",
        "        remainder = num % base\n",
        "        result = digits[remainder] + result\n",
        "        num //= base\n",
        "\n",
        "    return result\n",
        "\n",
        "M, N = map(int, input().split())\n",
        "\n",
        "result = convert_to_base(M, N)\n",
        "print(result)\n"
      ],
      "metadata": {
        "colab": {
          "base_uri": "https://localhost:8080/"
        },
        "id": "aYxKWNaJvEgQ",
        "outputId": "5e924e71-3be7-4545-aa71-e47315869651"
      },
      "execution_count": 53,
      "outputs": [
        {
          "output_type": "stream",
          "name": "stdout",
          "text": [
            "60466175 36\n",
            "ZZZZZ\n"
          ]
        }
      ]
    }
  ]
}