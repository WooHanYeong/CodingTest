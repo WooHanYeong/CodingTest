{
  "nbformat": 4,
  "nbformat_minor": 0,
  "metadata": {
    "colab": {
      "provenance": [],
      "authorship_tag": "ABX9TyO+5lz/N5alOygWp7hCNVdn",
      "include_colab_link": true
    },
    "kernelspec": {
      "name": "python3",
      "display_name": "Python 3"
    },
    "language_info": {
      "name": "python"
    }
  },
  "cells": [
    {
      "cell_type": "markdown",
      "metadata": {
        "id": "view-in-github",
        "colab_type": "text"
      },
      "source": [
        "<a href=\"https://colab.research.google.com/github/WooHanYeong/CodingTestPython/blob/main/%EB%B0%B1%EC%A4%80/230816%EB%B0%B1%EC%A4%80.ipynb\" target=\"_parent\"><img src=\"https://colab.research.google.com/assets/colab-badge.svg\" alt=\"Open In Colab\"/></a>"
      ]
    },
    {
      "cell_type": "code",
      "execution_count": 17,
      "metadata": {
        "colab": {
          "base_uri": "https://localhost:8080/"
        },
        "id": "fSs2pW6JxF41",
        "outputId": "afd23379-3480-45e7-83e6-3c6bec15efc7"
      },
      "outputs": [
        {
          "output_type": "stream",
          "name": "stdout",
          "text": [
            "4 2\n",
            "1 3 2\n",
            "4 3 4\n",
            "[0, 1, 4, 4]\n"
          ]
        }
      ],
      "source": [
        "n, m = map(int, input().split())\n",
        "k = [0] * n  # 리스트를 0으로 초기화\n",
        "\n",
        "for i in range(m):\n",
        "    q, w, e = map(int, input().split())\n",
        "    if w < e:\n",
        "        for j in range(w - 1, e):\n",
        "            k[j] = q\n",
        "    else:\n",
        "        for j in range(e - 1, w):\n",
        "            k[j] = q\n",
        "\n",
        "for val in k:\n",
        "    print(val, end=\" \")"
      ]
    }
  ]
}