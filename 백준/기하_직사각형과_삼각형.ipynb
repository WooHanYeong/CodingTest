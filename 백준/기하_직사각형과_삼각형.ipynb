{
  "nbformat": 4,
  "nbformat_minor": 0,
  "metadata": {
    "colab": {
      "provenance": [],
      "authorship_tag": "ABX9TyOWgil8K6jHtR1EpdKdNT0M",
      "include_colab_link": true
    },
    "kernelspec": {
      "name": "python3",
      "display_name": "Python 3"
    },
    "language_info": {
      "name": "python"
    }
  },
  "cells": [
    {
      "cell_type": "markdown",
      "metadata": {
        "id": "view-in-github",
        "colab_type": "text"
      },
      "source": [
        "<a href=\"https://colab.research.google.com/github/WooHanYeong/CodingTestPython/blob/main/%EB%B0%B1%EC%A4%80/%EA%B8%B0%ED%95%98_%EC%A7%81%EC%82%AC%EA%B0%81%ED%98%95%EA%B3%BC_%EC%82%BC%EA%B0%81%ED%98%95.ipynb\" target=\"_parent\"><img src=\"https://colab.research.google.com/assets/colab-badge.svg\" alt=\"Open In Colab\"/></a>"
      ]
    },
    {
      "cell_type": "code",
      "execution_count": 2,
      "metadata": {
        "colab": {
          "base_uri": "https://localhost:8080/"
        },
        "id": "JA4bp6xk_fvl",
        "outputId": "b0fe9f44-0ca2-4b38-971a-f69494d7028b"
      },
      "outputs": [
        {
          "output_type": "stream",
          "name": "stdout",
          "text": [
            "100\n",
            "1\n",
            "100\n"
          ]
        }
      ],
      "source": [
        "#직사각형\n",
        "A=int(input())\n",
        "B=int(input())\n",
        "print(A*B)"
      ]
    },
    {
      "cell_type": "code",
      "source": [
        "# 직사각형에서 탈출\n",
        "a,b,c,d=list(map(int, input().split()))\n",
        "q1=c-a\n",
        "q2=a\n",
        "p1=d-b\n",
        "p2=b\n",
        "print(min(q1,q2,p1,p2))"
      ],
      "metadata": {
        "colab": {
          "base_uri": "https://localhost:8080/"
        },
        "id": "kyqmYz2QVffe",
        "outputId": "397bfeb0-9328-4fe9-b804-2dd1c874565e"
      },
      "execution_count": 7,
      "outputs": [
        {
          "output_type": "stream",
          "name": "stdout",
          "text": [
            "1 1 5 5\n",
            "1\n"
          ]
        }
      ]
    },
    {
      "cell_type": "code",
      "source": [
        "#네 번째 점\n",
        "a=list(map(int, input().split()))\n",
        "b=list(map(int, input().split()))\n",
        "c=list(map(int, input().split()))\n",
        "li=[]\n",
        "if a[0]==b[0]:\n",
        "  li.append(c[0])\n",
        "else:\n",
        "  if a[0]==c[0]:\n",
        "    li.append(b[0])\n",
        "  else :\n",
        "    li.append(a[0])\n",
        "if a[1]==b[1]:\n",
        "  li.append(c[1])\n",
        "else:\n",
        "  if a[1]==c[1]:\n",
        "    li.append(b[1])\n",
        "  else :\n",
        "    li.append(a[1])\n",
        "print(str(li[0])+\" \"+str(li[1]))"
      ],
      "metadata": {
        "colab": {
          "base_uri": "https://localhost:8080/"
        },
        "id": "zRn2Vi8aqgUT",
        "outputId": "ed1655ec-14c5-4113-8b15-643f377b96ea"
      },
      "execution_count": 13,
      "outputs": [
        {
          "output_type": "stream",
          "name": "stdout",
          "text": [
            "30 20\n",
            "10 10\n",
            "10 20\n",
            "30 10\n"
          ]
        }
      ]
    },
    {
      "cell_type": "code",
      "source": [
        "#수학은 체육과목 입니다"
      ],
      "metadata": {
        "id": "9U3alILbrt1a"
      },
      "execution_count": null,
      "outputs": []
    },
    {
      "cell_type": "code",
      "source": [
        "#대지"
      ],
      "metadata": {
        "id": "eWjgaY32rwPL"
      },
      "execution_count": null,
      "outputs": []
    },
    {
      "cell_type": "code",
      "source": [
        "#삼각형 외우기\n",
        "a=int(input())\n",
        "b=int(input())\n",
        "c=int(input())\n",
        "if a+b+c==180 :\n",
        "  if a==60 and b==60 and c==60:\n",
        "    print(\"Equilateral\")\n",
        "  elif (a==b) or (a==c) or (b==c)  :\n",
        "    print(\"Isosceles\")\n",
        "  else :\n",
        "    print(\"Scalene\")\n",
        "\n",
        "else:\n",
        "  print(\"Error\")"
      ],
      "metadata": {
        "colab": {
          "base_uri": "https://localhost:8080/"
        },
        "id": "THLToiM-rwRj",
        "outputId": "4312a868-0c16-4ede-8996-2ca39a97717e"
      },
      "execution_count": 37,
      "outputs": [
        {
          "output_type": "stream",
          "name": "stdout",
          "text": [
            "60\n",
            "70\n",
            "50\n",
            "Scalene\n"
          ]
        }
      ]
    },
    {
      "cell_type": "code",
      "source": [
        "#삼각형과 세 변"
      ],
      "metadata": {
        "id": "zhrWT5bnrwT8"
      },
      "execution_count": null,
      "outputs": []
    },
    {
      "cell_type": "code",
      "source": [
        "#세 막대\n",
        "# max(a,b,c)==a일때, S =       a+b+c // or  // (b+c)*2-1\n",
        "a, b, c = map(int, input().split())\n",
        "max_value = max(a, b, c)\n",
        "\n",
        "if a == b == c:\n",
        "    perimeter = a + b + c\n",
        "elif max_value >= a + b + c - max_value:\n",
        "    perimeter = (a + b + c - max_value) * 2 - 1\n",
        "else:\n",
        "    perimeter = a + b + c\n",
        "\n",
        "print(perimeter)\n",
        "\n",
        "\n"
      ],
      "metadata": {
        "colab": {
          "base_uri": "https://localhost:8080/"
        },
        "id": "vQmFwrVAry3q",
        "outputId": "c2f91b45-b0e7-4555-a67d-bbd195dfc5e9"
      },
      "execution_count": 35,
      "outputs": [
        {
          "output_type": "stream",
          "name": "stdout",
          "text": [
            "41 64 16\n",
            "113\n"
          ]
        }
      ]
    }
  ]
}