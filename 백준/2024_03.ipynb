{
  "nbformat": 4,
  "nbformat_minor": 0,
  "metadata": {
    "colab": {
      "provenance": [],
      "authorship_tag": "ABX9TyN0yxEtPIGH1nn/I22vys0v",
      "include_colab_link": true
    },
    "kernelspec": {
      "name": "python3",
      "display_name": "Python 3"
    },
    "language_info": {
      "name": "python"
    }
  },
  "cells": [
    {
      "cell_type": "markdown",
      "metadata": {
        "id": "view-in-github",
        "colab_type": "text"
      },
      "source": [
        "<a href=\"https://colab.research.google.com/github/WooHanYeong/CodingTestPython/blob/main/%EB%B0%B1%EC%A4%80/2024_03.ipynb\" target=\"_parent\"><img src=\"https://colab.research.google.com/assets/colab-badge.svg\" alt=\"Open In Colab\"/></a>"
      ]
    },
    {
      "cell_type": "code",
      "source": [
        "print(\"테스트\")"
      ],
      "metadata": {
        "colab": {
          "base_uri": "https://localhost:8080/"
        },
        "id": "RK66oSYxLg25",
        "outputId": "f8a2d830-bd1c-43c0-977f-ef64070e1524"
      },
      "execution_count": 1,
      "outputs": [
        {
          "output_type": "stream",
          "name": "stdout",
          "text": [
            "테스트\n"
          ]
        }
      ]
    },
    {
      "cell_type": "code",
      "execution_count": null,
      "metadata": {
        "colab": {
          "base_uri": "https://localhost:8080/"
        },
        "id": "gpBXJassK_3Y",
        "outputId": "c7323051-04e0-495d-b2de-b5eb1b864480"
      },
      "outputs": [
        {
          "output_type": "stream",
          "name": "stdout",
          "text": [
            "3 3\n",
            "1 1 1\n",
            "1 1 1\n",
            "1 1 1\n",
            "2 2 2\n",
            "3 3 3\n",
            "4 4 4\n",
            "3 3 3 \n",
            "4 4 4 \n",
            "5 5 5 \n"
          ]
        }
      ],
      "source": [
        "A, B = [], []\n",
        "\n",
        "N, M = map(int, input().split())\n",
        "\n",
        "for row in range(N):\n",
        "    row = list(map(int, input().split()))\n",
        "    A.append(row)\n",
        "\n",
        "for row in range(N):\n",
        "    row = list(map(int, input().split()))\n",
        "    B.append(row)\n",
        "\n",
        "for row in range(N):\n",
        "    for col in range(M):\n",
        "        print(A[row][col] + B[row][col], end=' ')\n",
        "    print()"
      ]
    },
    {
      "cell_type": "code",
      "source": [
        "A = []\n",
        "for row in range(9):\n",
        "    row = list(map(int, input().split()))\n",
        "    A.append(row)\n",
        "\n",
        "max_value = A[0][0]\n",
        "max_row = 0\n",
        "max_column = 0\n",
        "\n",
        "for i, row in enumerate(A):\n",
        "    for j, value in enumerate(row):\n",
        "        if value > max_value:\n",
        "            max_value = value\n",
        "            max_row = i\n",
        "            max_column = j\n",
        "\n",
        "print(max_value)\n",
        "print(max_row + 1, max_column + 1)\n"
      ],
      "metadata": {
        "colab": {
          "base_uri": "https://localhost:8080/"
        },
        "id": "uWdHz0hJayb8",
        "outputId": "a4bf4c35-5e05-4160-c1cb-f14811f356b1"
      },
      "execution_count": null,
      "outputs": [
        {
          "output_type": "stream",
          "name": "stdout",
          "text": [
            "3 23 85 34 17 74 25 52 65\n",
            "10 7 39 42 88 52 14 72 63\n",
            "87 42 18 78 53 45 18 84 53\n",
            "34 28 64 85 12 16 75 36 55\n",
            "21 77 45 35 28 75 90 76 1\n",
            "25 87 65 15 28 11 37 28 74\n",
            "65 27 75 41 7 89 78 64 39\n",
            "47 47 70 45 23 65 3 41 44\n",
            "87 13 82 38 31 12 29 29 80\n",
            "최대값: 90\n",
            "최대값의 위치: 행 5 , 열 7\n"
          ]
        }
      ]
    },
    {
      "cell_type": "code",
      "source": [
        "words = []\n",
        "for i in range(5):\n",
        "  a = input()\n",
        "  words.append(a)\n",
        "\n",
        "for j in range(15):\n",
        "    for i in range(5):\n",
        "        if j < len(words[i]):\n",
        "            print(words[i][j], end='')\n"
      ],
      "metadata": {
        "colab": {
          "base_uri": "https://localhost:8080/"
        },
        "id": "iraRTbFgT3d-",
        "outputId": "45eee65f-5be9-4a67-fc51-8a516eccef54"
      },
      "execution_count": 9,
      "outputs": [
        {
          "name": "stdout",
          "output_type": "stream",
          "text": [
            "adw\n",
            "ef\n",
            "gewf\n",
            "dca\n",
            "wwq\n"
          ]
        }
      ]
    }
  ]
}