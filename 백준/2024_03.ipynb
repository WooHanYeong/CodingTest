{
  "nbformat": 4,
  "nbformat_minor": 0,
  "metadata": {
    "colab": {
      "provenance": [],
      "authorship_tag": "ABX9TyNx/RSwDmzdOWlYbFE8sDIh",
      "include_colab_link": true
    },
    "kernelspec": {
      "name": "python3",
      "display_name": "Python 3"
    },
    "language_info": {
      "name": "python"
    }
  },
  "cells": [
    {
      "cell_type": "markdown",
      "metadata": {
        "id": "view-in-github",
        "colab_type": "text"
      },
      "source": [
        "<a href=\"https://colab.research.google.com/github/WooHanYeong/CodingTestPython/blob/main/%EB%B0%B1%EC%A4%80/2024_03.ipynb\" target=\"_parent\"><img src=\"https://colab.research.google.com/assets/colab-badge.svg\" alt=\"Open In Colab\"/></a>"
      ]
    },
    {
      "cell_type": "code",
      "execution_count": 1,
      "metadata": {
        "colab": {
          "base_uri": "https://localhost:8080/"
        },
        "id": "gpBXJassK_3Y",
        "outputId": "c7323051-04e0-495d-b2de-b5eb1b864480"
      },
      "outputs": [
        {
          "output_type": "stream",
          "name": "stdout",
          "text": [
            "3 3\n",
            "1 1 1\n",
            "1 1 1\n",
            "1 1 1\n",
            "2 2 2\n",
            "3 3 3\n",
            "4 4 4\n",
            "3 3 3 \n",
            "4 4 4 \n",
            "5 5 5 \n"
          ]
        }
      ],
      "source": [
        "A, B = [], []\n",
        "\n",
        "N, M = map(int, input().split())\n",
        "\n",
        "for row in range(N):\n",
        "    row = list(map(int, input().split()))\n",
        "    A.append(row)\n",
        "\n",
        "for row in range(N):\n",
        "    row = list(map(int, input().split()))\n",
        "    B.append(row)\n",
        "\n",
        "for row in range(N):\n",
        "    for col in range(M):\n",
        "        print(A[row][col] + B[row][col], end=' ')\n",
        "    print()"
      ]
    },
    {
      "cell_type": "code",
      "source": [
        "print(\"테스트\")"
      ],
      "metadata": {
        "id": "RK66oSYxLg25",
        "outputId": "45d6e4a3-d69c-441c-9442-74158145fdb9",
        "colab": {
          "base_uri": "https://localhost:8080/"
        }
      },
      "execution_count": 2,
      "outputs": [
        {
          "output_type": "stream",
          "name": "stdout",
          "text": [
            "테스트\n"
          ]
        }
      ]
    },
    {
      "cell_type": "code",
      "source": [],
      "metadata": {
        "id": "yb_1mBUWLi61"
      },
      "execution_count": null,
      "outputs": []
    }
  ]
}