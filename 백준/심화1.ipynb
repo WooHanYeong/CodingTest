{
  "nbformat": 4,
  "nbformat_minor": 0,
  "metadata": {
    "colab": {
      "provenance": [],
      "authorship_tag": "ABX9TyNmKW7LPUQVqRzqLn8hYcyx",
      "include_colab_link": true
    },
    "kernelspec": {
      "name": "python3",
      "display_name": "Python 3"
    },
    "language_info": {
      "name": "python"
    }
  },
  "cells": [
    {
      "cell_type": "markdown",
      "metadata": {
        "id": "view-in-github",
        "colab_type": "text"
      },
      "source": [
        "<a href=\"https://colab.research.google.com/github/WooHanYeong/CodingTestPython/blob/main/%EB%B0%B1%EC%A4%80/%EC%8B%AC%ED%99%941.ipynb\" target=\"_parent\"><img src=\"https://colab.research.google.com/assets/colab-badge.svg\" alt=\"Open In Colab\"/></a>"
      ]
    },
    {
      "cell_type": "code",
      "execution_count": null,
      "metadata": {
        "colab": {
          "base_uri": "https://localhost:8080/"
        },
        "id": "eGUQLhSvlXJt",
        "outputId": "bf9a603c-055d-4a5d-9d81-b1b01c431063"
      },
      "outputs": [
        {
          "output_type": "stream",
          "name": "stdout",
          "text": [
            "5\n",
            "    *\n",
            "   ***\n",
            "  *****\n",
            " *******\n",
            "*********\n",
            " *******\n",
            "  *****\n",
            "   ***\n",
            "    *\n"
          ]
        }
      ],
      "source": [
        "n = int(input())\n",
        "for i in range(1, n):\n",
        "    print(' '*(n-i) + '*'*(2*i-1))\n",
        "for i in range(n, 0, -1):\n",
        "    print(' '*(n-i) + '*'*(2*i-1))"
      ]
    },
    {
      "cell_type": "code",
      "source": [],
      "metadata": {
        "id": "3R9BH-peMyZq"
      },
      "execution_count": null,
      "outputs": []
    },
    {
      "cell_type": "code",
      "source": [
        "n=input()\n",
        "k=list(n)\n",
        "if len(n)%2==0 :\n",
        "  for i in range(int(len(k)/2)):\n",
        "    if k[0] == k[-1]:\n",
        "      del k[0]\n",
        "      del k[-1]\n",
        "      if len(k)==0:\n",
        "        print(1)\n",
        "        break\n",
        "  if len(k)!=0:\n",
        "    print(0)\n",
        "\n",
        "\n",
        "\n",
        "\n",
        "\n",
        "\n"
      ],
      "metadata": {
        "id": "fz2J4HYo5S4W",
        "colab": {
          "base_uri": "https://localhost:8080/"
        },
        "outputId": "b413d021-ce6e-44ee-82a0-8adb28d73b4e"
      },
      "execution_count": null,
      "outputs": [
        {
          "output_type": "stream",
          "name": "stdout",
          "text": [
            "abfa\n",
            "0\n"
          ]
        }
      ]
    },
    {
      "cell_type": "code",
      "source": [
        "n=\"abba\"\n",
        "k=list(n)\n",
        "del k[0]\n",
        "del k[-1]\n",
        "k\n"
      ],
      "metadata": {
        "colab": {
          "base_uri": "https://localhost:8080/"
        },
        "id": "dyuDfK1C5lC_",
        "outputId": "86ec9ca9-693b-4b14-c26a-d3941f5d149a"
      },
      "execution_count": null,
      "outputs": [
        {
          "output_type": "execute_result",
          "data": {
            "text/plain": [
              "['b', 'b']"
            ]
          },
          "metadata": {},
          "execution_count": 1
        }
      ]
    },
    {
      "cell_type": "code",
      "source": [],
      "metadata": {
        "id": "PUUPRF6m5m6h"
      },
      "execution_count": null,
      "outputs": []
    }
  ]
}