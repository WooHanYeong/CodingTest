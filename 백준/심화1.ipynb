{
  "nbformat": 4,
  "nbformat_minor": 0,
  "metadata": {
    "colab": {
      "provenance": [],
      "authorship_tag": "ABX9TyMIa6M3PZnS/jRwSU5LUtuh",
      "include_colab_link": true
    },
    "kernelspec": {
      "name": "python3",
      "display_name": "Python 3"
    },
    "language_info": {
      "name": "python"
    }
  },
  "cells": [
    {
      "cell_type": "markdown",
      "metadata": {
        "id": "view-in-github",
        "colab_type": "text"
      },
      "source": [
        "<a href=\"https://colab.research.google.com/github/WooHanYeong/CodingTestPython/blob/main/%EB%B0%B1%EC%A4%80/%EC%8B%AC%ED%99%941.ipynb\" target=\"_parent\"><img src=\"https://colab.research.google.com/assets/colab-badge.svg\" alt=\"Open In Colab\"/></a>"
      ]
    },
    {
      "cell_type": "code",
      "execution_count": null,
      "metadata": {
        "colab": {
          "base_uri": "https://localhost:8080/"
        },
        "id": "eGUQLhSvlXJt",
        "outputId": "bf9a603c-055d-4a5d-9d81-b1b01c431063"
      },
      "outputs": [
        {
          "output_type": "stream",
          "name": "stdout",
          "text": [
            "5\n",
            "    *\n",
            "   ***\n",
            "  *****\n",
            " *******\n",
            "*********\n",
            " *******\n",
            "  *****\n",
            "   ***\n",
            "    *\n"
          ]
        }
      ],
      "source": [
        "##\t별 찍기 - 7\n",
        "\n",
        "n = int(input())\n",
        "for i in range(1, n):\n",
        "    print(' '*(n-i) + '*'*(2*i-1))\n",
        "for i in range(n, 0, -1):\n",
        "    print(' '*(n-i) + '*'*(2*i-1))"
      ]
    },
    {
      "cell_type": "code",
      "source": [
        "##\t팰린드롬인지 확인하기\n",
        "\n",
        "n = input()\n",
        "k = list(n)\n",
        "length = len(k)\n",
        "\n",
        "if length % 2 == 0:\n",
        "    for i in range(length // 2):\n",
        "        if k[i] != k[length - i - 1]:\n",
        "            print(0)\n",
        "            break\n",
        "    else:\n",
        "        print(1)\n",
        "else:\n",
        "    for i in range(length // 2 + 1):\n",
        "        if k[i] != k[length - i - 1]:\n",
        "            print(0)\n",
        "            break\n",
        "    else:\n",
        "        print(1)\n",
        "\n",
        "\n"
      ],
      "metadata": {
        "id": "fz2J4HYo5S4W",
        "colab": {
          "base_uri": "https://localhost:8080/"
        },
        "outputId": "3f9ed783-2a47-4d40-967e-fc34a5925027"
      },
      "execution_count": 14,
      "outputs": [
        {
          "output_type": "stream",
          "name": "stdout",
          "text": [
            "abcba\n",
            "1\n"
          ]
        }
      ]
    },
    {
      "cell_type": "code",
      "source": [
        "##그룹 단어 체커\n",
        "k=int(input())\n",
        "count=0\n",
        "for i in range(k):\n",
        "  word=list(input())\n",
        "  li=[]\n",
        "  cnt=0\n",
        "\n",
        "  for j in range(len(word)):\n",
        "    if word[j] not in li :\n",
        "      li.append(word[j])\n",
        "    else :\n",
        "      if word[j-1] == word[j]:\n",
        "        cnt+=1\n",
        "      else :\n",
        "        break\n",
        "    if cnt==len(word)-len(li) :\n",
        "      count+=1\n",
        "print(count)\n",
        "\n",
        "\n",
        "\n",
        ""
      ],
      "metadata": {
        "colab": {
          "base_uri": "https://localhost:8080/"
        },
        "id": "FH9257ukDCzJ",
        "outputId": "a613f105-74a5-421e-b9c5-cd37564bc8b3"
      },
      "execution_count": 53,
      "outputs": [
        {
          "output_type": "stream",
          "name": "stdout",
          "text": [
            "2\n",
            "banana\n",
            "apple\n",
            "1\n"
          ]
        }
      ]
    },
    {
      "cell_type": "code",
      "source": [
        "#너의 평점은\n",
        "Allsum = 0\n",
        "Rank=0\n",
        "\n",
        "for i in range(20):\n",
        "    강의명, 학점str, 등급 = input().split()\n",
        "    학점 = float(학점str)\n",
        "\n",
        "    if 등급 == \"A+\":\n",
        "        학점점수 = 4.5\n",
        "\n",
        "    elif 등급 == \"A0\":\n",
        "        학점점수 = 4.0\n",
        "    elif 등급 == \"B+\":\n",
        "        학점점수 = 3.5\n",
        "    elif 등급 == \"B0\":\n",
        "        학점점수 = 3.0\n",
        "    elif 등급 == \"C+\":\n",
        "        학점점수 = 2.5\n",
        "    elif 등급 == \"C0\":\n",
        "        학점점수 = 2.0\n",
        "    elif 등급 == \"D+\":\n",
        "        학점점수 = 1.5\n",
        "    elif 등급 == \"D0\":\n",
        "        학점점수 = 1.0\n",
        "    elif 등급 == \"P\":\n",
        "        학점=0\n",
        "        학점점수 = 0\n",
        "    else:\n",
        "        학점점수 = 0\n",
        "\n",
        "    Allsum += 학점 * 학점점수\n",
        "    Rank+=학점\n",
        "\n",
        "평균 = Allsum / Rank\n",
        "print(평균)\n",
        "\n",
        "\n",
        "\n",
        "\n"
      ],
      "metadata": {
        "colab": {
          "base_uri": "https://localhost:8080/"
        },
        "id": "DpK2Wh3VNm2_",
        "outputId": "2fb025d9-b0df-4e3f-c15b-c6e59e922210"
      },
      "execution_count": 64,
      "outputs": [
        {
          "name": "stdout",
          "output_type": "stream",
          "text": [
            "수학 3.0 A+\n",
            "과학 2.0 B+\n"
          ]
        }
      ]
    }
  ]
}