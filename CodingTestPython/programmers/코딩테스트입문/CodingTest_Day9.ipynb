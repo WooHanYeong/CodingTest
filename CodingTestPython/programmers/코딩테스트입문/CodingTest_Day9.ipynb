{
  "nbformat": 4,
  "nbformat_minor": 0,
  "metadata": {
    "colab": {
      "provenance": [],
      "authorship_tag": "ABX9TyN/sAawLXHZrvDRPhN9kp9R",
      "include_colab_link": true
    },
    "kernelspec": {
      "name": "python3",
      "display_name": "Python 3"
    },
    "language_info": {
      "name": "python"
    }
  },
  "cells": [
    {
      "cell_type": "markdown",
      "metadata": {
        "id": "view-in-github",
        "colab_type": "text"
      },
      "source": [
        "<a href=\"https://colab.research.google.com/github/WooHanYeong/CodingTestPython/blob/main/CodingTestPython/programmers/%EC%BD%94%EB%94%A9%ED%85%8C%EC%8A%A4%ED%8A%B8%EC%9E%85%EB%AC%B8/CodingTest_Day9.ipynb\" target=\"_parent\"><img src=\"https://colab.research.google.com/assets/colab-badge.svg\" alt=\"Open In Colab\"/></a>"
      ]
    },
    {
      "cell_type": "code",
      "execution_count": 1,
      "metadata": {
        "colab": {
          "base_uri": "https://localhost:8080/"
        },
        "id": "h01_K-V_vX1n",
        "outputId": "0a9f4b00-a17f-4d3b-c03a-b5f8c83ccc92"
      },
      "outputs": [
        {
          "output_type": "execute_result",
          "data": {
            "text/plain": [
              "5"
            ]
          },
          "metadata": {},
          "execution_count": 1
        }
      ],
      "source": [
        "#개미군단\n",
        "def solution(hp):\n",
        "    a=0\n",
        "    b=0\n",
        "    c=0\n",
        "    if hp>=5:\n",
        "      a+= (hp//5)\n",
        "      if (hp%5)>=3 :\n",
        "        b+=(hp%5)//3\n",
        "        c+=(hp%5)%3\n",
        "      else :\n",
        "        c+=(hp%5)\n",
        "    else :\n",
        "      if hp>=3 :\n",
        "        b+=hp//3\n",
        "        c+=hp%3\n",
        "      else :\n",
        "        c+=hp\n",
        "    answer = a+b+c\n",
        "    return answer\n",
        "\n",
        "solution(23)"
      ]
    },
    {
      "cell_type": "code",
      "source": [
        "#모스부호1\n",
        "def solution(letter):\n",
        "    morse = {\n",
        "    '.-':'a','-...':'b','-.-.':'c','-..':'d','.':'e','..-.':'f',\n",
        "    '--.':'g','....':'h','..':'i','.---':'j','-.-':'k','.-..':'l',\n",
        "    '--':'m','-.':'n','---':'o','.--.':'p','--.-':'q','.-.':'r',\n",
        "    '...':'s','-':'t','..-':'u','...-':'v','.--':'w','-..-':'x',\n",
        "    '-.--':'y','--..':'z'\n",
        "    }\n",
        "    answer = ''\n",
        "    dic = (letter.split(' '))\n",
        "    for i in range(len(dic)):\n",
        "        answer+=morse[dic[i]]\n",
        "    return answer"
      ],
      "metadata": {
        "id": "DYvOut1jyjKo"
      },
      "execution_count": 2,
      "outputs": []
    },
    {
      "cell_type": "code",
      "source": [
        "#가위바위 보  - 가위는 2 바위는 0 보는 5\n",
        "def solution(rsp):\n",
        "    answer = ''\n",
        "    answerli=[]\n",
        "    for i in range(len(rsp)):\n",
        "      if (rsp[i]==\"2\"):\n",
        "        answerli.append(0)\n",
        "      elif (rsp[i]==\"0\"):\n",
        "        answerli.append(5)\n",
        "      else :\n",
        "        answerli.append(2)\n",
        "    for i in range(len(answerli)):\n",
        "      answer+=str(answerli[i])\n",
        "    return answer\n",
        "solution(\"025\")"
      ],
      "metadata": {
        "id": "Mhbcd3xnwjfn",
        "colab": {
          "base_uri": "https://localhost:8080/",
          "height": 35
        },
        "outputId": "3d7288f8-6be8-495d-a2f9-e5a2783f22e9"
      },
      "execution_count": 22,
      "outputs": [
        {
          "output_type": "execute_result",
          "data": {
            "text/plain": [
              "'502'"
            ],
            "application/vnd.google.colaboratory.intrinsic+json": {
              "type": "string"
            }
          },
          "metadata": {},
          "execution_count": 22
        }
      ]
    },
    {
      "cell_type": "code",
      "source": [
        "#구슬을 나누는 경우의 수\n",
        "\n",
        "def solution(balls, share):\n",
        "    answer = 0\n",
        "    ballsnum=1\n",
        "    sharenum=1\n",
        "    for i in range(share,balls+1) :\n",
        "      ballsnum*=i\n",
        "    for i in range(1,share+1):\n",
        "      sharenum*=i\n",
        "    answer = ballsnum//sharenum\n",
        "    return answer\n",
        "solution(30,15)"
      ],
      "metadata": {
        "id": "Nmqgni9gwkFB",
        "colab": {
          "base_uri": "https://localhost:8080/"
        },
        "outputId": "80d586ec-53c6-4b6d-bcbe-1e0bd9f134dc"
      },
      "execution_count": 51,
      "outputs": [
        {
          "output_type": "execute_result",
          "data": {
            "text/plain": [
              "2326762800"
            ]
          },
          "metadata": {},
          "execution_count": 51
        }
      ]
    },
    {
      "cell_type": "code",
      "source": [
        "def solution(balls, share):\n",
        "    ballsnum=1\n",
        "    sharenum=1\n",
        "    count=0\n",
        "    for i in range(balls,0,-1) :\n",
        "        ballsnum*=i\n",
        "        count+=1\n",
        "        if count==share:\n",
        "            break\n",
        "    for i in range(share ,0,-1):\n",
        "        sharenum*=i\n",
        "    answer = ballsnum//sharenum\n",
        "    return answer\n",
        "solution(30,15)"
      ],
      "metadata": {
        "colab": {
          "base_uri": "https://localhost:8080/"
        },
        "id": "aNdzStViH_JK",
        "outputId": "73f00e1d-7d88-4b99-af4a-e0f4e734ed52"
      },
      "execution_count": 52,
      "outputs": [
        {
          "output_type": "execute_result",
          "data": {
            "text/plain": [
              "155117520"
            ]
          },
          "metadata": {},
          "execution_count": 52
        }
      ]
    }
  ]
}