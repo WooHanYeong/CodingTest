{
  "nbformat": 4,
  "nbformat_minor": 0,
  "metadata": {
    "colab": {
      "provenance": [],
      "authorship_tag": "ABX9TyNwkNX+JEqQ6bTg0xv73+r7",
      "include_colab_link": true
    },
    "kernelspec": {
      "name": "python3",
      "display_name": "Python 3"
    },
    "language_info": {
      "name": "python"
    }
  },
  "cells": [
    {
      "cell_type": "markdown",
      "metadata": {
        "id": "view-in-github",
        "colab_type": "text"
      },
      "source": [
        "<a href=\"https://colab.research.google.com/github/WooHanYeong/CodingTest/blob/main/%ED%94%84%EB%A1%9C%EA%B7%B8%EB%9E%98%EB%A8%B8%EC%8A%A4.ipynb\" target=\"_parent\"><img src=\"https://colab.research.google.com/assets/colab-badge.svg\" alt=\"Open In Colab\"/></a>"
      ]
    },
    {
      "cell_type": "code",
      "source": [
        "# day2-3\n",
        "# numer1  numer2\n",
        "# denom1  denom2\n",
        "def solution(numer1, denom1, numer2, denom2):\n",
        "    answer = []\n",
        "    a= (numer1 * denom2) + (numer2 *denom1) #분자\n",
        "    b= denom1 * denom2  #분모\n",
        "    c=0\n",
        "    for i in range(1,min(a,b)+1):\n",
        "        if ((a%i==0) and (b%i==0)) :\n",
        "            c=i\n",
        "    d=a/c\n",
        "    e=b/c\n",
        "    answer.append(d)\n",
        "    answer.append(e)\n",
        "    return answer\n",
        "\n",
        "\n",
        "solution(9,2,1,3)"
      ],
      "metadata": {
        "colab": {
          "base_uri": "https://localhost:8080/"
        },
        "id": "b_3I4Rn4OVHc",
        "outputId": "751987a5-fbeb-4a01-b323-e9de55d92cb4"
      },
      "execution_count": null,
      "outputs": [
        {
          "output_type": "execute_result",
          "data": {
            "text/plain": [
              "[29.0, 6.0]"
            ]
          },
          "metadata": {},
          "execution_count": 61
        }
      ]
    },
    {
      "cell_type": "code",
      "source": [
        "# day2-4\n",
        "\n",
        "def solution(numbers):\n",
        "    answer = []\n",
        "    for i in range(0,len(numbers)):\n",
        "        answer.append(numbers[i]*2)\n",
        "    return answer\n",
        "\n",
        "solution([1,2,3,4])"
      ],
      "metadata": {
        "colab": {
          "base_uri": "https://localhost:8080/"
        },
        "id": "egCrzSRqOKY0",
        "outputId": "cbbd800f-ab04-4e0c-b000-6434a2b4b559"
      },
      "execution_count": null,
      "outputs": [
        {
          "output_type": "execute_result",
          "data": {
            "text/plain": [
              "[2, 4, 6, 8]"
            ]
          },
          "metadata": {},
          "execution_count": 35
        }
      ]
    },
    {
      "cell_type": "code",
      "source": [
        "# day3-2\n",
        "\n",
        "def solution(array):\n",
        "    array.sort()\n",
        "    answer = 0\n",
        "    abs = int(((len(array)+1)/2)-1)\n",
        "    answer = array[abs]\n",
        "\n",
        "    return answer\n",
        "\n",
        "solution([9,-1,0])"
      ],
      "metadata": {
        "colab": {
          "base_uri": "https://localhost:8080/"
        },
        "id": "AzjYKhRNxssp",
        "outputId": "0ccf2e88-e609-42ca-b072-4f7acba6423e"
      },
      "execution_count": null,
      "outputs": [
        {
          "output_type": "execute_result",
          "data": {
            "text/plain": [
              "0"
            ]
          },
          "metadata": {},
          "execution_count": 95
        }
      ]
    },
    {
      "cell_type": "code",
      "source": [
        "a=[1,4,3,6,8,3,2]\n",
        "b=list(set(a))\n",
        "for i in range(0,len(b)):\n",
        "  print(b[i])"
      ],
      "metadata": {
        "colab": {
          "base_uri": "https://localhost:8080/"
        },
        "id": "5gycb0yW0ImK",
        "outputId": "eea38074-ba41-4090-f6e0-f98f38176b0b"
      },
      "execution_count": null,
      "outputs": [
        {
          "output_type": "stream",
          "name": "stdout",
          "text": [
            "1\n",
            "2\n",
            "3\n",
            "4\n",
            "6\n",
            "8\n"
          ]
        }
      ]
    }
  ]
}
