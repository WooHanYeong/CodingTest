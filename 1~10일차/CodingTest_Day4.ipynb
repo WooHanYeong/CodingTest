{
  "nbformat": 4,
  "nbformat_minor": 0,
  "metadata": {
    "colab": {
      "provenance": [],
      "authorship_tag": "ABX9TyMzIhvXXghtGRh/gab7HDxH",
      "include_colab_link": true
    },
    "kernelspec": {
      "name": "python3",
      "display_name": "Python 3"
    },
    "language_info": {
      "name": "python"
    }
  },
  "cells": [
    {
      "cell_type": "markdown",
      "metadata": {
        "id": "view-in-github",
        "colab_type": "text"
      },
      "source": [
        "<a href=\"https://colab.research.google.com/github/WooHanYeong/CodingTest/blob/main/CodingTest_Day4.ipynb\" target=\"_parent\"><img src=\"https://colab.research.google.com/assets/colab-badge.svg\" alt=\"Open In Colab\"/></a>"
      ]
    },
    {
      "cell_type": "code",
      "execution_count": 14,
      "metadata": {
        "id": "FhQ4E6mNqjOH"
      },
      "outputs": [],
      "source": [
        "def solution(n):\n",
        "    if n%7 ==0 :\n",
        "      answer = n//7\n",
        "    else:\n",
        "      answer = n//7+1\n",
        "\n",
        "    return answer"
      ]
    },
    {
      "cell_type": "code",
      "source": [
        "def solution(n):\n",
        "    if n%6 == 0:\n",
        "      answer = n//6\n",
        "    else :\n",
        "      if n%2 ==0:\n",
        "        answer = n//2\n",
        "      elif n%3 ==0:\n",
        "        answer =n//3\n",
        "      else :\n",
        "        answer = n\n",
        "    return answer\n",
        "\n",
        "solution(7)"
      ],
      "metadata": {
        "colab": {
          "base_uri": "https://localhost:8080/"
        },
        "id": "LexkPQLesumC",
        "outputId": "171e2cfe-b60f-4f7c-b9df-91e6305ca6d0"
      },
      "execution_count": 24,
      "outputs": [
        {
          "output_type": "execute_result",
          "data": {
            "text/plain": [
              "7"
            ]
          },
          "metadata": {},
          "execution_count": 24
        }
      ]
    },
    {
      "cell_type": "code",
      "source": [
        "def solution(slice, n):\n",
        "    k= n/slice\n",
        "    if int(n/slice)-k <0/.5 :\n",
        "      answer = int(k)+1\n",
        "    else :\n",
        "      answer = int(k)\n",
        "    return answer\n",
        "\n",
        "solution(7,100)"
      ],
      "metadata": {
        "colab": {
          "base_uri": "https://localhost:8080/"
        },
        "id": "tvcyVTxCD-RD",
        "outputId": "01918b82-317f-46c2-9ca1-e2aecac8ffee"
      },
      "execution_count": 43,
      "outputs": [
        {
          "output_type": "execute_result",
          "data": {
            "text/plain": [
              "15"
            ]
          },
          "metadata": {},
          "execution_count": 43
        }
      ]
    },
    {
      "cell_type": "code",
      "source": [
        "def solution(numbers):\n",
        "    c=0\n",
        "    for i in range(0,len(numbers)):\n",
        "        c+= numbers[i]\n",
        "    answer = c\n",
        "    return  (answer / len(numbers) )\n",
        "\n",
        "solution([1,2,3,4,5])"
      ],
      "metadata": {
        "colab": {
          "base_uri": "https://localhost:8080/"
        },
        "id": "XKBwEg-TDCz7",
        "outputId": "cdc3ddf8-bf3e-4ddd-ca87-e9d9784e1143"
      },
      "execution_count": 49,
      "outputs": [
        {
          "output_type": "execute_result",
          "data": {
            "text/plain": [
              "3"
            ]
          },
          "metadata": {},
          "execution_count": 49
        }
      ]
    }
  ]
}
