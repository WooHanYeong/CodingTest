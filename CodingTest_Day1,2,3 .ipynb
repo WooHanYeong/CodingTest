{
  "nbformat": 4,
  "nbformat_minor": 0,
  "metadata": {
    "colab": {
      "provenance": [],
      "authorship_tag": "ABX9TyMRr6unw2AHkYVpFXHrYB05",
      "include_colab_link": true
    },
    "kernelspec": {
      "name": "python3",
      "display_name": "Python 3"
    },
    "language_info": {
      "name": "python"
    }
  },
  "cells": [
    {
      "cell_type": "markdown",
      "metadata": {
        "id": "view-in-github",
        "colab_type": "text"
      },
      "source": [
        "<a href=\"https://colab.research.google.com/github/WooHanYeong/CodingTest/blob/main/CodingTest_Day1%2C2%2C3.ipynb\" target=\"_parent\"><img src=\"https://colab.research.google.com/assets/colab-badge.svg\" alt=\"Open In Colab\"/></a>"
      ]
    },
    {
      "cell_type": "markdown",
      "source": [
        "# day1\n"
      ],
      "metadata": {
        "id": "UA1z_NSpza9B"
      }
    },
    {
      "cell_type": "code",
      "source": [
        "def solution(num1, num2):\n",
        "    answer = num1+num2\n",
        "    return answer\n",
        "\n",
        "solution(1,2)"
      ],
      "metadata": {
        "colab": {
          "base_uri": "https://localhost:8080/"
        },
        "id": "PeUHnLYGymly",
        "outputId": "eb6a987a-811f-4524-d2e1-90a6b21fe18e"
      },
      "execution_count": null,
      "outputs": [
        {
          "output_type": "execute_result",
          "data": {
            "text/plain": [
              "3"
            ]
          },
          "metadata": {},
          "execution_count": 9
        }
      ]
    },
    {
      "cell_type": "code",
      "source": [
        "def solution(num1, num2):\n",
        "    answer = num1-num2\n",
        "    return answer\n",
        "\n",
        "solution(1,2)"
      ],
      "metadata": {
        "colab": {
          "base_uri": "https://localhost:8080/"
        },
        "id": "PtWi5eB3zJ6q",
        "outputId": "9ed479ed-a5ac-441e-ed04-57dc357de81f"
      },
      "execution_count": null,
      "outputs": [
        {
          "output_type": "execute_result",
          "data": {
            "text/plain": [
              "-1"
            ]
          },
          "metadata": {},
          "execution_count": 11
        }
      ]
    },
    {
      "cell_type": "code",
      "source": [
        "def solution(num1, num2):\n",
        "    answer = num1*num2\n",
        "    return answer\n",
        "\n",
        "solution(1,2)"
      ],
      "metadata": {
        "colab": {
          "base_uri": "https://localhost:8080/"
        },
        "id": "gz8XXIXbzYUj",
        "outputId": "3da4642a-b50a-43aa-ad80-995ea8f95157"
      },
      "execution_count": null,
      "outputs": [
        {
          "output_type": "execute_result",
          "data": {
            "text/plain": [
              "2"
            ]
          },
          "metadata": {},
          "execution_count": 12
        }
      ]
    },
    {
      "cell_type": "code",
      "source": [
        "def solution(numbers):\n",
        "    answer = []\n",
        "    for i in range(0,len(numbers)):\n",
        "        answer.append(numbers[i]*2)\n",
        "    return answer\n",
        "\n",
        "solution([1,2,3])"
      ],
      "metadata": {
        "colab": {
          "base_uri": "https://localhost:8080/"
        },
        "id": "ty7Q5a4k0Sx7",
        "outputId": "dd2918e8-df4f-4d88-cc20-6d61cafef10f"
      },
      "execution_count": null,
      "outputs": [
        {
          "output_type": "execute_result",
          "data": {
            "text/plain": [
              "[2, 4, 6]"
            ]
          },
          "metadata": {},
          "execution_count": 13
        }
      ]
    },
    {
      "cell_type": "markdown",
      "source": [
        "# day2\n"
      ],
      "metadata": {
        "id": "ohWoUuUy0zmx"
      }
    },
    {
      "cell_type": "code",
      "source": [
        "def solution(num1, num2):\n",
        "    answer = int(float(num1/num2 )*1000)\n",
        "    return answer\n",
        "\n",
        "solution(7,3)"
      ],
      "metadata": {
        "colab": {
          "base_uri": "https://localhost:8080/"
        },
        "id": "DC0vS7AX01sx",
        "outputId": "24c4bea1-2935-4824-bc06-0f71455eced0"
      },
      "execution_count": null,
      "outputs": [
        {
          "output_type": "execute_result",
          "data": {
            "text/plain": [
              "2333"
            ]
          },
          "metadata": {},
          "execution_count": 17
        }
      ]
    },
    {
      "cell_type": "code",
      "source": [
        "def solution(num1, num2):\n",
        "    if num1 == num2:\n",
        "      return 1\n",
        "    else :\n",
        "      return -1\n",
        "\n",
        "solution(2,2)"
      ],
      "metadata": {
        "colab": {
          "base_uri": "https://localhost:8080/"
        },
        "outputId": "3045bfbe-ca84-480a-c0dd-880ec9d91568",
        "id": "Zs5Jg5a81__-"
      },
      "execution_count": null,
      "outputs": [
        {
          "output_type": "execute_result",
          "data": {
            "text/plain": [
              "1"
            ]
          },
          "metadata": {},
          "execution_count": 22
        }
      ]
    },
    {
      "cell_type": "code",
      "source": [
        "def solution(numer1, denom1, numer2, denom2):\n",
        "    answer = []\n",
        "    a= (numer1 * denom2) + (numer2 *denom1) #분자\n",
        "    b= denom1 * denom2  #분모\n",
        "    c=0\n",
        "    for i in range(1,min(a,b)+1):\n",
        "        if ((a%i==0) and (b%i==0)) :\n",
        "            c=i\n",
        "    d=a/c\n",
        "    e=b/c\n",
        "    answer.append(d)\n",
        "    answer.append(e)\n",
        "    return answer\n",
        "\n",
        "\n",
        "solution(9,2,1,3)"
      ],
      "metadata": {
        "colab": {
          "base_uri": "https://localhost:8080/"
        },
        "id": "b_3I4Rn4OVHc",
        "outputId": "54c5acae-a722-48a7-b7ab-95bf54e2f3d0"
      },
      "execution_count": null,
      "outputs": [
        {
          "output_type": "execute_result",
          "data": {
            "text/plain": [
              "[29.0, 6.0]"
            ]
          },
          "metadata": {},
          "execution_count": 1
        }
      ]
    },
    {
      "cell_type": "code",
      "source": [
        "def solution(numbers):\n",
        "    answer = []\n",
        "    for i in range(0,len(numbers)):\n",
        "        answer.append(numbers[i]*2)\n",
        "    return answer\n",
        "\n",
        "solution([1,2,3,4])"
      ],
      "metadata": {
        "colab": {
          "base_uri": "https://localhost:8080/"
        },
        "id": "egCrzSRqOKY0",
        "outputId": "cbbd800f-ab04-4e0c-b000-6434a2b4b559"
      },
      "execution_count": null,
      "outputs": [
        {
          "output_type": "execute_result",
          "data": {
            "text/plain": [
              "[2, 4, 6, 8]"
            ]
          },
          "metadata": {},
          "execution_count": 35
        }
      ]
    },
    {
      "cell_type": "markdown",
      "source": [
        "# day3"
      ],
      "metadata": {
        "id": "uJxb4iGX025z"
      }
    },
    {
      "cell_type": "code",
      "source": [
        "def solution(num1, num2):\n",
        "    answer = num1%num2\n",
        "    return answer\n",
        "solution(10,5)"
      ],
      "metadata": {
        "colab": {
          "base_uri": "https://localhost:8080/"
        },
        "id": "bipu4CKD04X7",
        "outputId": "4d156cd0-65c3-4978-a4db-65a226ec1390"
      },
      "execution_count": null,
      "outputs": [
        {
          "output_type": "execute_result",
          "data": {
            "text/plain": [
              "0"
            ]
          },
          "metadata": {},
          "execution_count": 27
        }
      ]
    },
    {
      "cell_type": "code",
      "source": [
        "def solution(array):\n",
        "    array.sort()\n",
        "    answer = 0\n",
        "    abs = int(((len(array)+1)/2)-1)\n",
        "    answer = array[abs]\n",
        "\n",
        "    return answer\n",
        "\n",
        "solution([9,-1,0])"
      ],
      "metadata": {
        "colab": {
          "base_uri": "https://localhost:8080/"
        },
        "id": "AzjYKhRNxssp",
        "outputId": "475164a9-9bde-4d75-f2c7-0bcff200b9d6"
      },
      "execution_count": null,
      "outputs": [
        {
          "output_type": "execute_result",
          "data": {
            "text/plain": [
              "0"
            ]
          },
          "metadata": {},
          "execution_count": 23
        }
      ]
    },
    {
      "cell_type": "code",
      "source": [
        "def solution(array):\n",
        "  array_s = list(set(array))\n",
        "  answer=[]\n",
        "  for i in range(len(array_s)):\n",
        "    counts=0\n",
        "    for j in range(len(array)):\n",
        "      if array_s[i] == array[j] :\n",
        "        counts+=1\n",
        "    answer.append(counts)\n",
        "    counts=0\n",
        "  answer.count\n",
        "  count=0\n",
        "  max_i = max(answer)\n",
        "  for i in range(len(answer)) :\n",
        "    if max_i == answer[i] :\n",
        "      count+=1\n",
        "  if count >=2 :\n",
        "    return -1\n",
        "  else :\n",
        "    return array_s[answer.index(max(answer))]\n",
        "\n",
        "\n",
        "solution([1,1,1,1,1,2,2,2,3,3,3,4])"
      ],
      "metadata": {
        "colab": {
          "base_uri": "https://localhost:8080/"
        },
        "id": "5sBWmbBG3Sv0",
        "outputId": "fd1488e0-7a0f-4b30-e3af-3a8e466a5d50"
      },
      "execution_count": 28,
      "outputs": [
        {
          "output_type": "execute_result",
          "data": {
            "text/plain": [
              "1"
            ]
          },
          "metadata": {},
          "execution_count": 28
        }
      ]
    },
    {
      "cell_type": "code",
      "source": [
        "def solution(n):\n",
        "    answer = []\n",
        "    for i in range(1,n+1):\n",
        "      if i%2==1:\n",
        "        answer.append(i)\n",
        "    return answer\n",
        "solution(15)"
      ],
      "metadata": {
        "id": "WUzWAWkbAHI-",
        "colab": {
          "base_uri": "https://localhost:8080/"
        },
        "outputId": "9d904170-f3ab-42fa-d6f1-42acdd081b9a"
      },
      "execution_count": 31,
      "outputs": [
        {
          "output_type": "execute_result",
          "data": {
            "text/plain": [
              "[1, 3, 5, 7, 9, 11, 13, 15]"
            ]
          },
          "metadata": {},
          "execution_count": 31
        }
      ]
    }
  ]
}
